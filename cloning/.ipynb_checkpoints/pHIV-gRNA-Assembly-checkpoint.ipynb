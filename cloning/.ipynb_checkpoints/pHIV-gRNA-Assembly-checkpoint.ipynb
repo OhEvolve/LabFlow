{
 "cells": [
  {
   "cell_type": "markdown",
   "metadata": {},
   "source": [
    "# Load Libraries and Primer Data"
   ]
  },
  {
   "cell_type": "code",
   "execution_count": 1,
   "metadata": {},
   "outputs": [],
   "source": [
    "# homegrown libraries\n",
    "import plasmids \n",
    "import primers \n",
    "import restriction_enzymes \n",
    "\n",
    "import reactions\n",
    "import tools\n",
    "\n",
    "# nonstandard libraries\n",
    "from pydna.dseq import Dseq\n",
    "from pydna.dseqrecord import Dseqrecord\n",
    "\n",
    "from Bio import pairwise2\n",
    "\n",
    "\"\"\"\n",
    "Available functions:\n",
    "    >>> reactions.digest(sequence,*cutsites)\n",
    "    >>> reactions.pcr(seq_template,primer1,primer2)\n",
    "    >>> reactions.gibson(seq_template,primer1,primer2,limit = homology_int)\n",
    "    >>> tools.get_largest(sequence_list)\n",
    "\"\"\"\n",
    "\n",
    "seqs = plasmids.get_all()\n",
    "primers = primers.get_all()\n",
    "renzymes = restriction_enzymes.get_all()"
   ]
  },
  {
   "cell_type": "markdown",
   "metadata": {},
   "source": [
    "# pHIV Library"
   ]
  },
  {
   "cell_type": "code",
   "execution_count": 1,
   "metadata": {},
   "outputs": [
    {
     "ename": "NameError",
     "evalue": "name 'seqs' is not defined",
     "output_type": "error",
     "traceback": [
      "\u001b[0;31m---------------------------------------------------------------------------\u001b[0m",
      "\u001b[0;31mNameError\u001b[0m                                 Traceback (most recent call last)",
      "\u001b[0;32m<ipython-input-1-9929d38bc60a>\u001b[0m in \u001b[0;36m<module>\u001b[0;34m\u001b[0m\n\u001b[1;32m      1\u001b[0m \u001b[0;34m\u001b[0m\u001b[0m\n\u001b[1;32m      2\u001b[0m \u001b[0;34m\u001b[0m\u001b[0m\n\u001b[0;32m----> 3\u001b[0;31m \u001b[0mgRNA\u001b[0m \u001b[0;34m=\u001b[0m \u001b[0mseqs\u001b[0m\u001b[0;34m[\u001b[0m\u001b[0;34m'HEK-gRNA_2site_Cloning_Vector'\u001b[0m\u001b[0;34m]\u001b[0m\u001b[0;34m\u001b[0m\u001b[0m\n\u001b[0m\u001b[1;32m      4\u001b[0m \u001b[0mpHIV\u001b[0m \u001b[0;34m=\u001b[0m \u001b[0mseqs\u001b[0m\u001b[0;34m[\u001b[0m\u001b[0;34m'pHIV-mCherry-xI-GG'\u001b[0m\u001b[0;34m]\u001b[0m\u001b[0;34m\u001b[0m\u001b[0m\n\u001b[1;32m      5\u001b[0m \u001b[0;34m\u001b[0m\u001b[0m\n",
      "\u001b[0;31mNameError\u001b[0m: name 'seqs' is not defined"
     ]
    }
   ],
   "source": [
    "\n",
    "\n",
    "gRNA = seqs['HEK-gRNA_2site_Cloning_Vector']\n",
    "pHIV = seqs['pHIV-mCherry-xI-GG']\n",
    "\n",
    "psets = [\n",
    "    (primers['pgRNA-GG-0-F'],primers['pgRNA-GG-1-R']),\n",
    "    (primers['pgRNA-GG-1-F'],primers['pgRNA-GG-2-R']),\n",
    "    (primers['pgRNA-GG-2-F'],primers['pgRNA-GG-3-R']),\n",
    "    (primers['pgRNA-GG-3-F'],primers['pgRNA-GG-0-R'])\n",
    "]\n",
    "\n",
    "pcr_products = []\n",
    "\n",
    "for pset in psets:\n",
    "    product = reactions.pcr(gRNA,*pset)\n",
    "    pcr_products += [product]\n",
    "\n",
    "possible_plasmids = reactions.golden_gate(pHIV,*pcr_products,enzyme = 'Esp3I')\n",
    "\n",
    "final_plasmid = tools.get_largest(possible_plasmids)\n",
    "\n",
    "final_plasmid.write('pHIV-mCxI-3pgRNA.dna')\n"
   ]
  },
  {
   "cell_type": "code",
   "execution_count": 5,
   "metadata": {
    "scrolled": true
   },
   "outputs": [
    {
     "name": "stdout",
     "output_type": "stream",
     "text": [
      "Assembly:\n",
      "Sequences........................: [2180] [294] [40]\n",
      "Sequences with shared homologies.: [2180] [294] [294] [2180] [40] [40]\n",
      "Homology limit (bp)..............: 18\n",
      "Number of overlaps...............: 10\n",
      "Nodes in graph(incl. 5' & 3')....: 10\n",
      "Only terminal overlaps...........: No\n",
      "Circular products................: [4832] [4832] [2416] [2416] [2416]\n",
      "Linear products..................: [4346] [2460] [2443] [2443] [2443] [2443] [2430] [2430] [2430] [2193] [2193] [2193] [2193] [2180] [574] [307] [307] [307] [307] [294] [44] [40] [40] [27] [27]\n",
      "[Contig(o4832), Contig(o4832), Contig(o2416), Contig(o2416), Contig(o2416)]\n"
     ]
    },
    {
     "data": {
      "text/html": [
       "<font face=monospace><a href='ART-pgRNA.dna' target='_blank'>ART-pgRNA.dna</a></font><br>"
      ]
     },
     "metadata": {},
     "output_type": "display_data"
    }
   ],
   "source": [
    "from pydna.amplicon import Amplicon\n",
    "\n",
    "gRNA = seqs['HEK-gRNA_Cloning_Vector']\n",
    "final = seqs['ART-pgRNA-GG']\n",
    "\n",
    "psets = [\n",
    "    (primers['ART-Vector-F'],primers['ART-Vector-R']),\n",
    "    (primers['ART-Frag1-F'],primers['ART-Frag1-R']),\n",
    "]\n",
    "    \n",
    "pcr_products = []\n",
    "\n",
    "for pset in psets:\n",
    "    product = reactions.pcr(gRNA,*pset)\n",
    "    pcr_products += [product]\n",
    "\n",
    "bridge = reactions.anneal(primers['ART-Span0-F'],primers['ART-Span0-R'])\n",
    "\n",
    "possible_plasmids = reactions.gibson(pcr_products[0],\n",
    "                                     pcr_products[1],\n",
    "                                     bridge,\n",
    "                                     limit = 20)\n",
    "print(possible_plasmids)\n",
    "\n",
    "final_plasmid = tools.get_smallest(possible_plasmids)\n",
    "\n",
    "final_plasmid.write('ART-pgRNA.dna')\n",
    "\n"
   ]
  },
  {
   "cell_type": "code",
   "execution_count": null,
   "metadata": {},
   "outputs": [],
   "source": []
  }
 ],
 "metadata": {
  "kernelspec": {
   "display_name": "Python 3",
   "language": "python",
   "name": "python3"
  },
  "language_info": {
   "codemirror_mode": {
    "name": "ipython",
    "version": 3
   },
   "file_extension": ".py",
   "mimetype": "text/x-python",
   "name": "python",
   "nbconvert_exporter": "python",
   "pygments_lexer": "ipython3",
   "version": "3.6.5"
  }
 },
 "nbformat": 4,
 "nbformat_minor": 2
}
