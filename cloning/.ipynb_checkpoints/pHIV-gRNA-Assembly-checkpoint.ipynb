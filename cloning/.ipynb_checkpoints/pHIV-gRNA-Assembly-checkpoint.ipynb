{
 "cells": [
  {
   "cell_type": "markdown",
   "metadata": {},
   "source": [
    "# Load Libraries and Primer Data"
   ]
  },
  {
   "cell_type": "code",
   "execution_count": 7,
   "metadata": {},
   "outputs": [],
   "source": [
    "# homegrown libraries\n",
    "import plasmids \n",
    "import primers \n",
    "import restriction_enzymes \n",
    "\n",
    "import reactions\n",
    "import tools\n",
    "\n",
    "# nonstandard libraries\n",
    "from pydna.dseq import Dseq\n",
    "from pydna.dseqrecord import Dseqrecord\n",
    "\n",
    "from Bio import pairwise2\n",
    "\n",
    "\"\"\"\n",
    "Available functions:\n",
    "    >>> reactions.digest(sequence,*cutsites)\n",
    "    >>> reactions.pcr(seq_template,primer1,primer2)\n",
    "    >>> reactions.gibson(seq_template,primer1,primer2,limit = homology_int)\n",
    "    >>> tools.get_largest(sequence_list)\n",
    "\"\"\"\n",
    "\n",
    "seqs = plasmids.get_all()\n",
    "primers = primers.get_all()\n",
    "renzymes = restriction_enzymes.get_all()"
   ]
  },
  {
   "cell_type": "markdown",
   "metadata": {},
   "source": [
    "# Load Libraries and Primer Data"
   ]
  },
  {
   "cell_type": "code",
   "execution_count": 8,
   "metadata": {},
   "outputs": [
    {
     "name": "stdout",
     "output_type": "stream",
     "text": [
      "Products: Dseqrecord\n",
      "circular: False\n",
      "size: 7098\n",
      "ID: id?\n",
      "Name: name?\n",
      "Description: description?_Esp3I\n",
      "Number of features: 16\n",
      "/UUID=18a1e603-fbce-4f59-b2e6-4d0258e80693\n",
      "/Type=Synthetic\n",
      "/ConfirmedExperimentally=0\n",
      "/Created=OrderedDict([('@UTC', '5:0:0'), ('#text', '2017.2.8')])\n",
      "/LastModified=OrderedDict([('@UTC', '14:5:24'), ('#text', '2018.10.3')])\n",
      "/CreatedBy=MIT\n",
      "/SequenceClass=UNA\n",
      "/TransformedInto=unspecified\n",
      "/date=04-OCT-2018\n",
      "Dseq(-7098)\n",
      "GTCGGGCC..ACCG    \n",
      "    CCGG..TGGCGTCG \n",
      "\n",
      "Products: Dseqrecord\n",
      "circular: False\n",
      "size: 799\n",
      "ID: 813bp SWIBLBKM-OQIOhM_XyyMjnmhpHw\n",
      "Name: 813bp_PCR_prod\n",
      "Description: Product_<unknown description>_<unknown description>_Esp3I\n",
      "Number of features: 8\n",
      "/date=04-OCT-2018\n",
      "Dseq(-799)\n",
      "CAGcaatt..acat    \n",
      "    ttaa..tgtatCAG \n",
      "\n",
      "Products: Dseqrecord\n",
      "circular: False\n",
      "size: 799\n",
      "ID: 813bp kxxIUhP4_LBR3hZ7hYV2hANocCk\n",
      "Name: 813bp_PCR_prod\n",
      "Description: Product_<unknown description>_<unknown description>_Esp3I\n",
      "Number of features: 8\n",
      "/date=04-OCT-2018\n",
      "Dseq(-799)\n",
      "AGTcaatt..acat    \n",
      "    ttaa..tgtaATAC \n",
      "\n",
      "Products: Dseqrecord\n",
      "circular: False\n",
      "size: 799\n",
      "ID: 813bp W6KphKr5eZxe7N7laGUzpEt2U7c\n",
      "Name: 813bp_PCR_prod\n",
      "Description: Product_<unknown description>_<unknown description>_Esp3I\n",
      "Number of features: 8\n",
      "/date=04-OCT-2018\n",
      "Dseq(-799)\n",
      "TATGaatt..acat    \n",
      "    ttaa..tgtaCGTA \n",
      "\n",
      "Products: Dseqrecord\n",
      "circular: False\n",
      "size: 799\n",
      "ID: 813bp 3yGyYpd4ujx_ZyngCqyurykudQo\n",
      "Name: 813bp_PCR_prod\n",
      "Description: Product_<unknown description>_<unknown description>_Esp3I\n",
      "Number of features: 8\n",
      "/date=04-OCT-2018\n",
      "Dseq(-799)\n",
      "GCATaatt..acat    \n",
      "    ttaa..tgtaCAGC \n",
      "\n"
     ]
    },
    {
     "data": {
      "text/html": [
       "<font color='DarkOrange ' face=monospace>Sequence changed.<br></font><font color='red' face=monospace>new: <a href='pHIV-mCxI-3pgRNA.dna' target='_blank'>pHIV-mCxI-3pgRNA.dna</a> &nbsp&nbsp&nbsp size: 10274bp topology: o SEGUID: 9j-BVaIF9va7gRae3IlvBPikNOg<br></font><font color='green' face=monospace>old: <a href='pHIV-mCxI-3pgRNA_OLD.dna' target='_blank'>pHIV-mCxI-3pgRNA_OLD.dna</a> size: 9479bp topology: o SEGUID: sPsKWwKzS7HZd5LyhEgVqoAfdZo<br></font>"
      ]
     },
     "metadata": {},
     "output_type": "display_data"
    }
   ],
   "source": [
    "\n",
    "\n",
    "gRNA = seqs['HEK-gRNA_2site_Cloning_Vector']\n",
    "pHIV = seqs['pHIV-mCherry-xI-GG']\n",
    "\n",
    "psets = [\n",
    "    (primers['pgRNA-GG-0-F'],primers['pgRNA-GG-1-R']),\n",
    "    (primers['pgRNA-GG-1-F'],primers['pgRNA-GG-2-R']),\n",
    "    (primers['pgRNA-GG-2-F'],primers['pgRNA-GG-3-R']),\n",
    "    (primers['pgRNA-GG-3-F'],primers['pgRNA-GG-0-R'])\n",
    "]\n",
    "\n",
    "pcr_products = []\n",
    "\n",
    "for pset in psets:\n",
    "    product = reactions.pcr(gRNA,*pset)\n",
    "    pcr_products += [product]\n",
    "\n",
    "possible_plasmids = reactions.golden_gate(pHIV,*pcr_products,enzyme = 'Esp3I')\n",
    "\n",
    "final_plasmid = tools.get_largest(possible_plasmids)\n",
    "\n",
    "final_plasmid.write('pHIV-mCxI-3pgRNA.dna')\n"
   ]
  },
  {
   "cell_type": "code",
   "execution_count": 8,
   "metadata": {},
   "outputs": [
    {
     "name": "stdout",
     "output_type": "stream",
     "text": [
      "[Dseqrecord(-7098), Dseqrecord(-28)]\n",
      "Dseqrecord\n",
      "circular: False\n",
      "size: 813\n",
      "ID: 813bp 8_wW6UW_FHxWi2WdV5R_h4sIBR4\n",
      "Name: 813bp_PCR_prod\n",
      "Description: Product_<unknown description>_<unknown description>\n",
      "Number of features: 10\n",
      "/date=04-OCT-2018\n",
      "Dseq(-813)\n",
      "CGTC..GACG\n",
      "GCAG..CTGC\n",
      "Dseqrecord\n",
      "circular: False\n",
      "size: 813\n",
      "ID: 813bp 0OnY1avm2-InCLujJz7goR7TEJo\n",
      "Name: 813bp_PCR_prod\n",
      "Description: Product_<unknown description>_<unknown description>\n",
      "Number of features: 10\n",
      "/date=04-OCT-2018\n",
      "Dseq(-813)\n",
      "CGTC..GACG\n",
      "GCAG..CTGC\n",
      "Dseqrecord\n",
      "circular: False\n",
      "size: 813\n",
      "ID: 813bp geKTjc-UqRf8PjzuFmWnMEZV1xk\n",
      "Name: 813bp_PCR_prod\n",
      "Description: Product_<unknown description>_<unknown description>\n",
      "Number of features: 10\n",
      "/date=04-OCT-2018\n",
      "Dseq(-813)\n",
      "CGTC..GACG\n",
      "GCAG..CTGC\n"
     ]
    }
   ],
   "source": [
    "print(pHIV_fragments)\n",
    "print(pcr1)\n",
    "print(pcr2)\n",
    "print(pcr3)"
   ]
  },
  {
   "cell_type": "code",
   "execution_count": null,
   "metadata": {},
   "outputs": [],
   "source": []
  }
 ],
 "metadata": {
  "kernelspec": {
   "display_name": "Python 3",
   "language": "python",
   "name": "python3"
  },
  "language_info": {
   "codemirror_mode": {
    "name": "ipython",
    "version": 3
   },
   "file_extension": ".py",
   "mimetype": "text/x-python",
   "name": "python",
   "nbconvert_exporter": "python",
   "pygments_lexer": "ipython3",
   "version": "3.6.5"
  }
 },
 "nbformat": 4,
 "nbformat_minor": 2
}
